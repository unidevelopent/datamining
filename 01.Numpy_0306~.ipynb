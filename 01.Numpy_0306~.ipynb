{
 "cells": [
  {
   "cell_type": "markdown",
   "metadata": {},
   "source": [
    "# Numpy"
   ]
  },
  {
   "cell_type": "code",
   "execution_count": 1,
   "metadata": {},
   "outputs": [
    {
     "data": {
      "text/plain": [
       "'1.19.2'"
      ]
     },
     "execution_count": 1,
     "metadata": {},
     "output_type": "execute_result"
    }
   ],
   "source": [
    "import numpy as np\n",
    "np.__version__"
   ]
  },
  {
   "cell_type": "markdown",
   "metadata": {},
   "source": [
    "## 1차원 배열 만들기"
   ]
  },
  {
   "cell_type": "code",
   "execution_count": 2,
   "metadata": {},
   "outputs": [
    {
     "name": "stdout",
     "output_type": "stream",
     "text": [
      "[1 2 3 4 5]\n",
      "<class 'numpy.ndarray'>\n",
      "(5,)\n",
      "1 2 3 4 5\n"
     ]
    }
   ],
   "source": [
    "a1 = np.array([1,2,3,4,5])\n",
    "print(a1)\n",
    "print(type(a1))\n",
    "print(a1.shape)\n",
    "print(a1[0],a1[1],a1[2],a1[3],a1[4])"
   ]
  },
  {
   "cell_type": "markdown",
   "metadata": {},
   "source": [
    "## 2차원 배열 만들기"
   ]
  },
  {
   "cell_type": "code",
   "execution_count": 3,
   "metadata": {},
   "outputs": [
    {
     "name": "stdout",
     "output_type": "stream",
     "text": [
      "[[1 2 3]\n",
      " [4 5 6]]\n",
      "(2, 3)\n",
      "1 5\n"
     ]
    }
   ],
   "source": [
    "a2 = np.array([[1,2,3],[4,5,6]]) #2행 3열 \n",
    "print(a2) \n",
    "print(a2.shape)\n",
    "print(a2[0,0],a2[1,1]) #0번 row의 0번 column에 있는 값, ~ 접근"
   ]
  },
  {
   "cell_type": "markdown",
   "metadata": {},
   "source": [
    "## 3차원 배열 만들기"
   ]
  },
  {
   "cell_type": "code",
   "execution_count": 4,
   "metadata": {},
   "outputs": [
    {
     "name": "stdout",
     "output_type": "stream",
     "text": [
      "[[[1 2 3 4]\n",
      "  [4 5 6 7]\n",
      "  [9 0 1 2]]\n",
      "\n",
      " [[3 4 5 6]\n",
      "  [7 8 9 0]\n",
      "  [1 2 3 4]]]\n",
      "(2, 3, 4)\n"
     ]
    }
   ],
   "source": [
    "a3 = np.array([[[1,2,3,4],[4,5,6,7],[9,0,1,2]],\n",
    "             [[3,4,5,6],[7,8,9,0],[1,2,3,4]]\n",
    "              ])\n",
    "print(a3)\n",
    "print(a3.shape)"
   ]
  },
  {
   "cell_type": "markdown",
   "metadata": {},
   "source": [
    "## 배열 생성 및 초기화\n",
    "- zeros(): 모든 요소를 0으로 초기화\n",
    "- ones(): 모든 요소를 1로 초기화"
   ]
  },
  {
   "cell_type": "code",
   "execution_count": 5,
   "metadata": {},
   "outputs": [
    {
     "data": {
      "text/plain": [
       "array([0., 0., 0., 0., 0., 0., 0., 0., 0., 0.])"
      ]
     },
     "execution_count": 5,
     "metadata": {},
     "output_type": "execute_result"
    }
   ],
   "source": [
    "np.zeros(10)"
   ]
  },
  {
   "cell_type": "code",
   "execution_count": 6,
   "metadata": {},
   "outputs": [
    {
     "data": {
      "text/plain": [
       "array([[1., 1., 1.],\n",
       "       [1., 1., 1.]])"
      ]
     },
     "execution_count": 6,
     "metadata": {},
     "output_type": "execute_result"
    }
   ],
   "source": [
    "np.ones((2,3)) #2행 3열짜리 배열을 만들면서 모든 데이터는 1로 초기화"
   ]
  },
  {
   "cell_type": "code",
   "execution_count": 7,
   "metadata": {},
   "outputs": [
    {
     "data": {
      "text/plain": [
       "array([[1.23, 1.23, 1.23],\n",
       "       [1.23, 1.23, 1.23]])"
      ]
     },
     "execution_count": 7,
     "metadata": {},
     "output_type": "execute_result"
    }
   ],
   "source": [
    "np.full((2,3),1.23) #1.23이라는 값으로 초기화"
   ]
  },
  {
   "cell_type": "code",
   "execution_count": 8,
   "metadata": {},
   "outputs": [
    {
     "data": {
      "text/plain": [
       "array([[1., 0., 0.],\n",
       "       [0., 1., 0.],\n",
       "       [0., 0., 1.]])"
      ]
     },
     "execution_count": 8,
     "metadata": {},
     "output_type": "execute_result"
    }
   ],
   "source": [
    "np.eye(3) #단위행렬 생성 "
   ]
  },
  {
   "cell_type": "code",
   "execution_count": 9,
   "metadata": {},
   "outputs": [
    {
     "data": {
      "text/plain": [
       "array([[1., 0., 0.],\n",
       "       [1., 1., 0.],\n",
       "       [1., 1., 1.]])"
      ]
     },
     "execution_count": 9,
     "metadata": {},
     "output_type": "execute_result"
    }
   ],
   "source": [
    "np.tri(3) #삼각행렬 생성"
   ]
  },
  {
   "cell_type": "code",
   "execution_count": 10,
   "metadata": {},
   "outputs": [
    {
     "data": {
      "text/plain": [
       "array([0., 0., 0., 0., 0., 0., 0., 0., 0., 0.])"
      ]
     },
     "execution_count": 10,
     "metadata": {},
     "output_type": "execute_result"
    }
   ],
   "source": [
    "np.empty(10) #배열의 모양새만 만들어놓음(초기값을 정해놓은 것이 아님)"
   ]
  },
  {
   "cell_type": "code",
   "execution_count": 11,
   "metadata": {},
   "outputs": [
    {
     "name": "stdout",
     "output_type": "stream",
     "text": [
      "[1 2 3 4 5]\n"
     ]
    },
    {
     "data": {
      "text/plain": [
       "array([0, 0, 0, 0, 0])"
      ]
     },
     "execution_count": 11,
     "metadata": {},
     "output_type": "execute_result"
    }
   ],
   "source": [
    "print(a1)\n",
    "np.zeros_like(a1)"
   ]
  },
  {
   "cell_type": "code",
   "execution_count": 12,
   "metadata": {},
   "outputs": [
    {
     "name": "stdout",
     "output_type": "stream",
     "text": [
      "[[1 2 3]\n",
      " [4 5 6]]\n"
     ]
    },
    {
     "data": {
      "text/plain": [
       "array([[1, 1, 1],\n",
       "       [1, 1, 1]])"
      ]
     },
     "execution_count": 12,
     "metadata": {},
     "output_type": "execute_result"
    }
   ],
   "source": [
    "print(a2)\n",
    "np.ones_like(a2)"
   ]
  },
  {
   "cell_type": "code",
   "execution_count": 13,
   "metadata": {},
   "outputs": [
    {
     "name": "stdout",
     "output_type": "stream",
     "text": [
      "[[[1 2 3 4]\n",
      "  [4 5 6 7]\n",
      "  [9 0 1 2]]\n",
      "\n",
      " [[3 4 5 6]\n",
      "  [7 8 9 0]\n",
      "  [1 2 3 4]]]\n"
     ]
    },
    {
     "data": {
      "text/plain": [
       "array([[[10, 10, 10, 10],\n",
       "        [10, 10, 10, 10],\n",
       "        [10, 10, 10, 10]],\n",
       "\n",
       "       [[10, 10, 10, 10],\n",
       "        [10, 10, 10, 10],\n",
       "        [10, 10, 10, 10]]])"
      ]
     },
     "execution_count": 13,
     "metadata": {},
     "output_type": "execute_result"
    }
   ],
   "source": [
    "print(a3)\n",
    "np.full_like(a3,10)"
   ]
  },
  {
   "cell_type": "code",
   "execution_count": 14,
   "metadata": {},
   "outputs": [
    {
     "data": {
      "text/plain": [
       "array([ 0,  2,  4,  6,  8, 10, 12, 14, 16, 18, 20, 22, 24, 26, 28])"
      ]
     },
     "execution_count": 14,
     "metadata": {},
     "output_type": "execute_result"
    }
   ],
   "source": [
    "np.arange(0,30,2) #정수 범위로 배열 생성, 30을 넘지 않는 값까지 2 step"
   ]
  },
  {
   "cell_type": "code",
   "execution_count": 15,
   "metadata": {},
   "outputs": [
    {
     "data": {
      "text/plain": [
       "array([0.  , 0.25, 0.5 , 0.75, 1.  ])"
      ]
     },
     "execution_count": 15,
     "metadata": {},
     "output_type": "execute_result"
    }
   ],
   "source": [
    "np.linspace(0,1,5) #0부터 1까지 5개의 균등 간격의 배열 생성"
   ]
  },
  {
   "cell_type": "code",
   "execution_count": 16,
   "metadata": {
    "scrolled": true
   },
   "outputs": [
    {
     "data": {
      "text/plain": [
       "array([[0.99117691, 0.32618281, 0.42124654],\n",
       "       [0.01147044, 0.33693517, 0.71457299],\n",
       "       [0.41850441, 0.68466343, 0.37854253]])"
      ]
     },
     "execution_count": 16,
     "metadata": {},
     "output_type": "execute_result"
    }
   ],
   "source": [
    "np.random.random((3,3))"
   ]
  },
  {
   "cell_type": "code",
   "execution_count": 17,
   "metadata": {},
   "outputs": [
    {
     "data": {
      "text/plain": [
       "array([[0, 2, 1],\n",
       "       [2, 1, 2],\n",
       "       [2, 1, 2]])"
      ]
     },
     "execution_count": 17,
     "metadata": {},
     "output_type": "execute_result"
    }
   ],
   "source": [
    "np.random.randint(0,3,(3,3)) #0부터 2까지 3by3"
   ]
  },
  {
   "cell_type": "code",
   "execution_count": 18,
   "metadata": {},
   "outputs": [
    {
     "data": {
      "text/plain": [
       "array([[-0.52832589,  0.73341489, -2.34432541],\n",
       "       [ 0.23444453,  1.23422261, -0.56523849],\n",
       "       [ 0.15060743, -0.09413456, -0.15535735]])"
      ]
     },
     "execution_count": 18,
     "metadata": {},
     "output_type": "execute_result"
    }
   ],
   "source": [
    "np.random.normal(0, 1, (3, 3)) #0부터 1까지? "
   ]
  },
  {
   "cell_type": "code",
   "execution_count": 19,
   "metadata": {},
   "outputs": [
    {
     "data": {
      "text/plain": [
       "array([[0.19518763, 0.84615699, 0.26295907],\n",
       "       [0.38640905, 0.46712174, 0.05042201],\n",
       "       [0.01556044, 0.59819391, 0.56941822]])"
      ]
     },
     "execution_count": 19,
     "metadata": {},
     "output_type": "execute_result"
    }
   ],
   "source": [
    "np.random.rand(3, 3)"
   ]
  },
  {
   "cell_type": "code",
   "execution_count": 20,
   "metadata": {},
   "outputs": [
    {
     "data": {
      "text/plain": [
       "array([[ 0.1689635 , -0.28545071, -0.89118808],\n",
       "       [ 0.57386226, -0.39207618,  0.14068471],\n",
       "       [-0.54775732,  0.89986587,  0.12126362]])"
      ]
     },
     "execution_count": 20,
     "metadata": {},
     "output_type": "execute_result"
    }
   ],
   "source": [
    "# randn함수는 정규분포(가우시안 분포)라고 불리는 값을 return하는 값. 대체로 -1~1사이 값\n",
    "np.random.randn(3, 3)"
   ]
  },
  {
   "cell_type": "code",
   "execution_count": 21,
   "metadata": {},
   "outputs": [
    {
     "data": {
      "text/plain": [
       "array([0, 0, 0, 0, 0, 0, 0, 0, 0, 0, 0, 0, 0, 0, 0, 0, 0, 0, 0, 0])"
      ]
     },
     "execution_count": 21,
     "metadata": {},
     "output_type": "execute_result"
    }
   ],
   "source": [
    "np.zeros(20, dtype=int)"
   ]
  },
  {
   "cell_type": "code",
   "execution_count": 22,
   "metadata": {},
   "outputs": [],
   "source": [
    "def array_info(array):\n",
    "    print(array)\n",
    "    print(\"ndim:\", array.ndim)\n",
    "    print(\"shape:\", array.shape)\n",
    "    print(\"dtype:\", array.dtype)\n",
    "    print(\"size:\", array.size) #요소의 개수 \n",
    "    print(\"itemsize:\", array.itemsize) # 한 요소의 바이트 크기, 아래를 예로들면 하나의 바이트는 4바이트임\n",
    "    print(\"nbytes:\", array.nbytes) #전체 바이트 \n",
    "    print(\"strides:\", array.strides) # 등간격. 걸음. (차원 간격, 요소 간격). 몇바이트를 지나가면 다음 요소가 존재하는가? (아래는 4바이트 지나면 다음 요소가 있다는 뜻)"
   ]
  },
  {
   "cell_type": "code",
   "execution_count": 23,
   "metadata": {},
   "outputs": [
    {
     "name": "stdout",
     "output_type": "stream",
     "text": [
      "[1 2 3 4 5]\n",
      "ndim: 1\n",
      "shape: (5,)\n",
      "dtype: int32\n",
      "size: 5\n",
      "itemsize: 4\n",
      "nbytes: 20\n",
      "strides: (4,)\n"
     ]
    }
   ],
   "source": [
    "array_info(a1)"
   ]
  },
  {
   "cell_type": "code",
   "execution_count": 24,
   "metadata": {},
   "outputs": [
    {
     "name": "stdout",
     "output_type": "stream",
     "text": [
      "[[1 2 3]\n",
      " [4 5 6]]\n",
      "ndim: 2\n",
      "shape: (2, 3)\n",
      "dtype: int32\n",
      "size: 6\n",
      "itemsize: 4\n",
      "nbytes: 24\n",
      "strides: (12, 4)\n"
     ]
    }
   ],
   "source": [
    "array_info(a2) # stride : 1차 행은 요소가 3개. 4 x 3=12\n",
    "#ndim은 데이터 차원이 2개 itemsize가 4byte ..근데 이건 왜 8이 아니라 4지?\n",
    "#nbytes: 4*6\n",
    "#strides: 첫번째 행은 4*3 12바이트, 그 안에서 4바이트 간격으로 데이터 행이 구성되어 있음 "
   ]
  },
  {
   "cell_type": "code",
   "execution_count": 25,
   "metadata": {},
   "outputs": [
    {
     "name": "stdout",
     "output_type": "stream",
     "text": [
      "[[[1 2 3 4]\n",
      "  [4 5 6 7]\n",
      "  [9 0 1 2]]\n",
      "\n",
      " [[3 4 5 6]\n",
      "  [7 8 9 0]\n",
      "  [1 2 3 4]]]\n",
      "ndim: 3\n",
      "shape: (2, 3, 4)\n",
      "dtype: int32\n",
      "size: 24\n",
      "itemsize: 4\n",
      "nbytes: 96\n",
      "strides: (48, 16, 4)\n"
     ]
    }
   ],
   "source": [
    "array_info(a3) # stride : 1차 면은 요소가 3행 x 4열 =12 개. 4 x 12 = 48\n",
    "#shape (2,3,4)는 2개의 덩어리가 있는데 각각은 3행, 4열로 구성되어있다는 뜻\n",
    "#nbytes: 24*4\n",
    "#strides: 첫번째 덩어리가 다음 덩어리로 넘어가는 바이트: 48바이트..(첫번째 축에서 두 번째 축으로)\n",
    "#새로운 행으로 넘어가는 건 4개 뒤니까 16, 같은 행 안에서는 4바이트"
   ]
  },
  {
   "cell_type": "code",
   "execution_count": 26,
   "metadata": {},
   "outputs": [
    {
     "name": "stdout",
     "output_type": "stream",
     "text": [
      "[1 2 3 4 5]\n",
      "1\n",
      "3\n",
      "5\n",
      "4\n"
     ]
    }
   ],
   "source": [
    "print(a1)\n",
    "print(a1[0])\n",
    "print(a1[2])\n",
    "print(a1[-1])\n",
    "print(a1[-2])"
   ]
  },
  {
   "cell_type": "code",
   "execution_count": 27,
   "metadata": {},
   "outputs": [
    {
     "name": "stdout",
     "output_type": "stream",
     "text": [
      "[[1 2 3]\n",
      " [4 5 6]]\n",
      "1\n",
      "3\n",
      "6\n"
     ]
    }
   ],
   "source": [
    "print(a2)\n",
    "print(a2[0, 0]) \n",
    "print(a2[0, 2]) \n",
    "print(a2[1, -1])#행인덱스는 1이니까 4,5,6이고 그중에서도 열인덱스가 뒤에서 첫번째 있는 거니까 6"
   ]
  },
  {
   "cell_type": "code",
   "execution_count": 28,
   "metadata": {},
   "outputs": [
    {
     "name": "stdout",
     "output_type": "stream",
     "text": [
      "[[[1 2 3 4]\n",
      "  [4 5 6 7]\n",
      "  [9 0 1 2]]\n",
      "\n",
      " [[3 4 5 6]\n",
      "  [7 8 9 0]\n",
      "  [1 2 3 4]]]\n",
      "1\n",
      "8\n",
      "2\n"
     ]
    }
   ],
   "source": [
    "print(a3)\n",
    "print(a3[0, 0, 0])\n",
    "print(a3[1, 1, 1])\n",
    "print(a3[0, -1, -1])"
   ]
  },
  {
   "cell_type": "markdown",
   "metadata": {},
   "source": [
    "### 슬라이싱"
   ]
  },
  {
   "cell_type": "code",
   "execution_count": 29,
   "metadata": {},
   "outputs": [
    {
     "name": "stdout",
     "output_type": "stream",
     "text": [
      "[1 2 3 4 5]\n",
      "[1 2]\n",
      "[2 3 4 5]\n",
      "[1 2 3]\n",
      "[1 3 5]\n",
      "[5 4 3 2 1]\n"
     ]
    }
   ],
   "source": [
    "print(a1)\n",
    "print(a1[0:2])\n",
    "print(a1[1:])\n",
    "print(a1[:3])\n",
    "print(a1[::2])\n",
    "print(a1[::-1])"
   ]
  },
  {
   "cell_type": "code",
   "execution_count": 30,
   "metadata": {},
   "outputs": [
    {
     "name": "stdout",
     "output_type": "stream",
     "text": [
      "[[1 2 3]\n",
      " [4 5 6]]\n",
      "[4 5 6]\n",
      "[4 5 6]\n",
      "[[1 2]]\n",
      "[[6 5 4]]\n",
      "[[4 5 6]\n",
      " [1 2 3]]\n",
      "[[6 5 4]\n",
      " [3 2 1]]\n"
     ]
    }
   ],
   "source": [
    "print(a2) \n",
    "print(a2[1]) #1번 인덱스(4,5,6) 행을 전부다 추출 \n",
    "print(a2[1, :]) \n",
    "print(a2[:1, :2]) #시작값은 없고(0번), 끝나는 값은 항상 -1이니까 :1은 0과 동일한 것. 처음부터 0번 인덱스니까 [1,2,3] 조회\n",
    "print(a2[1:, ::-1]) #1번 row(4,5,6)부터 시작값 생략, 끝값 생략, step은 -1로 주니까 역순으로 조회함!! > 6,5,4\n",
    "print(a2[::-1, ::1]) #row는 처음부터끝까지 다 하고 스텝은 -1이니까 역순으로 가지고 오면 됨 >(4,5,6) (1,2,3) 형태/컬럼은 처음부터끝까지 step은 1로 (쓰나마나)\n",
    "print(a2[::-1, ::-1]) #row도 역순으로, column들도 역순으로 > 6,5,4 / 3,2,1"
   ]
  },
  {
   "cell_type": "markdown",
   "metadata": {},
   "source": [
    "### 불리언 인덱싱 \n",
    "- True 값인 인덱스의 값만 조회"
   ]
  },
  {
   "cell_type": "code",
   "execution_count": 31,
   "metadata": {},
   "outputs": [
    {
     "name": "stdout",
     "output_type": "stream",
     "text": [
      "[1 2 3 4 5]\n",
      "[2 3 5]\n",
      "[1 3 4]\n"
     ]
    }
   ],
   "source": [
    "print(a1)\n",
    "bi = [False, True, True, False, True] ##트루라고 되어있는 값들만 조회 \n",
    "print(a1[bi])\n",
    "bi = [True, False, True, True, False]\n",
    "print(a1[bi])"
   ]
  },
  {
   "cell_type": "markdown",
   "metadata": {},
   "source": [
    "### 배열 값 삽입/수정/삭제/복사\n",
    "배열 값 삽입\n",
    "- insert(): 배열의 특정 위치에 값 삽입\n",
    "- axis를 지정하지 않으면 1차원 배열로 변환\n",
    "- 추가할 방향을 axis로 지정\n",
    "- 원본 배열 변경 없이 새로운 배열 반환"
   ]
  },
  {
   "cell_type": "code",
   "execution_count": 33,
   "metadata": {},
   "outputs": [
    {
     "name": "stdout",
     "output_type": "stream",
     "text": [
      "[1 2 3 4 5]\n",
      "[10  1  2  3  4  5]\n",
      "[ 1  2 10  3  4  5]\n"
     ]
    }
   ],
   "source": [
    "print(a1)\n",
    "b1 = np.insert(a1, 0, 10) #a1의 0번 위치에 10이라는 값을 넣겠다. (변경이 아니라 삽입)\n",
    "print(b1)\n",
    "c1 = np.insert(a1, 2, 10) #a1의 2번 인덱스(3이 있던 자리)에 10을 넣겠다. \n",
    "print(c1)"
   ]
  },
  {
   "cell_type": "code",
   "execution_count": 34,
   "metadata": {},
   "outputs": [
    {
     "name": "stdout",
     "output_type": "stream",
     "text": [
      "[[1 2 3]\n",
      " [4 5 6]]\n",
      "[[ 1  2  3]\n",
      " [10 10 10]\n",
      " [ 4  5  6]]\n",
      "[[ 1 10  2  3]\n",
      " [ 4 10  5  6]]\n"
     ]
    }
   ],
   "source": [
    "print(a2)\n",
    "b2 = np.insert(a2, 1, 10, axis=0) #행\n",
    "print(b2)\n",
    "c2 = np.insert(a2, 1, 10, axis=1)#열 #열의 1번 인덱스 (2,5 있는 자리)에 10을 넣겠다. \n",
    "print(c2)"
   ]
  },
  {
   "cell_type": "markdown",
   "metadata": {},
   "source": [
    "### 배열 값 수정\n",
    "- 배열의 인덱싱으로 접근하여 값 수정"
   ]
  },
  {
   "cell_type": "code",
   "execution_count": 35,
   "metadata": {},
   "outputs": [
    {
     "name": "stdout",
     "output_type": "stream",
     "text": [
      "[1 2 3 4 5]\n",
      "[11 22 33  4  5]\n",
      "[ 9  9 33  4  5]\n",
      "[ 9  0 33  0  0]\n",
      "[ 9  4 33  4  4]\n"
     ]
    }
   ],
   "source": [
    "a1 = np.array([1, 2, 3, 4, 5])\n",
    "print(a1)\n",
    "a1[0] = 11\n",
    "a1[1] = 22\n",
    "a1[2] = 33\n",
    "print(a1)\n",
    "\n",
    "a1[:2] = 9\n",
    "print(a1)\n",
    "\n",
    "i = np.array([1, 3, 4])\n",
    "a1[i] = 0\n",
    "print(a1)\n",
    "\n",
    "a1[i] += 4  # 그위치에 있는 값을 원래 있는 값에 4를 더해서 저장해라 \n",
    "print(a1)"
   ]
  },
  {
   "cell_type": "code",
   "execution_count": 36,
   "metadata": {},
   "outputs": [
    {
     "name": "stdout",
     "output_type": "stream",
     "text": [
      "[[1 2 3]\n",
      " [4 5 6]\n",
      " [7 8 9]]\n",
      "[[ 1  1  1]\n",
      " [ 4 22  6]\n",
      " [ 7  8  9]]\n",
      "[[ 1  1  1]\n",
      " [ 4 22  9]\n",
      " [ 7  8  9]]\n"
     ]
    }
   ],
   "source": [
    "a2 = np.array([ [1, 2, 3], [4, 5, 6], [7, 8, 9] ])\n",
    "print(a2)\n",
    "a2[0, 0] = 11 #2차원이라서 행,열 모두 인덱스 지정해야 함. 행0의 열0 자리를 11로 바꾸겠다라는 뜻.. \n",
    "a2[1, 1] = 22\n",
    "a2[0] = 1\n",
    "print(a2)\n",
    "a2[1:, 2] = 9\n",
    "print(a2)"
   ]
  },
  {
   "cell_type": "markdown",
   "metadata": {},
   "source": [
    "### 배열 값 삭제\n",
    "- delete() : 배열의 특정 위치에 값 삭제\n",
    "- axis를 지정하지 않으면 1차원 배열로 변환\n",
    "- 삭제할 방향을 axis로 지정\n",
    "- 원본 배열 변경없이 새로운 배열 반환"
   ]
  },
  {
   "cell_type": "code",
   "execution_count": 37,
   "metadata": {},
   "outputs": [
    {
     "name": "stdout",
     "output_type": "stream",
     "text": [
      "[1 2 3 4 5]\n",
      "[1 3 4 5]\n",
      "[1 2 3 4 5]\n"
     ]
    }
   ],
   "source": [
    "a1 = np.array([1, 2, 3, 4, 5])\n",
    "print(a1)\n",
    "b1 = np.delete(a1, 1) #(참조할 배열, 인덱스 번호)\n",
    "print(b1)\n",
    "print(a1)"
   ]
  },
  {
   "cell_type": "code",
   "execution_count": 38,
   "metadata": {},
   "outputs": [
    {
     "name": "stdout",
     "output_type": "stream",
     "text": [
      "[[1 2 3]\n",
      " [4 5 6]\n",
      " [7 8 9]]\n"
     ]
    }
   ],
   "source": [
    "a2 = np.array([ [1, 2, 3], [4, 5, 6], [7, 8, 9] ])\n",
    "print(a2)"
   ]
  },
  {
   "cell_type": "code",
   "execution_count": 39,
   "metadata": {},
   "outputs": [
    {
     "name": "stdout",
     "output_type": "stream",
     "text": [
      "[[1 2 3]\n",
      " [7 8 9]]\n",
      "[[1 3]\n",
      " [4 6]\n",
      " [7 9]]\n"
     ]
    }
   ],
   "source": [
    "b2 = np.delete(a2, 1, axis=0)\n",
    "print(b2)\n",
    "c2 = np.delete(a2, 1, axis=1)\n",
    "print(c2)\n"
   ]
  },
  {
   "cell_type": "markdown",
   "metadata": {},
   "source": [
    "### 배열 복사\n",
    "- 리스트 자료형과 달리 배열의 슬라이스는 복사본이 아님"
   ]
  },
  {
   "cell_type": "code",
   "execution_count": 40,
   "metadata": {
    "scrolled": true
   },
   "outputs": [
    {
     "name": "stdout",
     "output_type": "stream",
     "text": [
      "[[1 2 3]\n",
      " [4 5 6]\n",
      " [7 8 9]]\n",
      "[[1 2]\n",
      " [4 5]]\n",
      "[[1 0]\n",
      " [4 0]]\n",
      "[[1 0 3]\n",
      " [4 0 6]\n",
      " [7 8 9]]\n"
     ]
    }
   ],
   "source": [
    "print(a2)\n",
    "\n",
    "a2_sub = a2[:2, :2]\n",
    "print(a2_sub)\n",
    "\n",
    "a2_sub[:, 1] = 0 #행은 전체 컬럼은 1번인덱스\n",
    "print(a2_sub)\n",
    "print(a2) # 원본배열에도 영향을 준다!!!!!!! \n",
    "#원본 배열에 영향을 주고싶지 않다면, copy라는 걸 명시해서 원본에는 변화를 없게 해야함. "
   ]
  },
  {
   "cell_type": "code",
   "execution_count": 41,
   "metadata": {},
   "outputs": [
    {
     "name": "stdout",
     "output_type": "stream",
     "text": [
      "[[1 0 3]\n",
      " [4 0 6]\n",
      " [7 8 9]]\n",
      "[[1 0]\n",
      " [4 0]]\n",
      "[[1 1]\n",
      " [4 1]]\n",
      "[[1 0 3]\n",
      " [4 0 6]\n",
      " [7 8 9]]\n"
     ]
    }
   ],
   "source": [
    "print(a2)\n",
    "a2_sub_copy = a2[:2, :2].copy()\n",
    "print(a2_sub_copy)\n",
    "a2_sub_copy[:, 1] = 1\n",
    "print(a2_sub_copy)\n",
    "print(a2)"
   ]
  },
  {
   "cell_type": "markdown",
   "metadata": {},
   "source": [
    "## 배열 변환\n",
    "### 배열 전치 및 축 변경"
   ]
  },
  {
   "cell_type": "code",
   "execution_count": 42,
   "metadata": {},
   "outputs": [
    {
     "name": "stdout",
     "output_type": "stream",
     "text": [
      "[[1 2 3]\n",
      " [4 5 6]\n",
      " [7 8 9]]\n",
      "[[1 4 7]\n",
      " [2 5 8]\n",
      " [3 6 9]]\n"
     ]
    }
   ],
   "source": [
    "a2 = np.array([[1,2,3],[4,5,6],[7,8,9]])\n",
    "print(a2)\n",
    "print(a2.T) "
   ]
  },
  {
   "cell_type": "code",
   "execution_count": 43,
   "metadata": {},
   "outputs": [
    {
     "name": "stdout",
     "output_type": "stream",
     "text": [
      "[[1 2 3]\n",
      " [4 5 6]\n",
      " [7 8 9]]\n",
      "[[1 4 7]\n",
      " [2 5 8]\n",
      " [3 6 9]]\n"
     ]
    }
   ],
   "source": [
    "print(a2)\n",
    "print(a2.swapaxes(1, 0)) #swapaxes라는 함수로 행과 열을 바꿔라 라는 뜻!!!!\n",
    "# swapaxes는 차원을 변경하는 건데... 안에 있는 인자를 axes에 대한 index\n",
    "# swapaxes(1,0) == swapaxes(0,1)\n",
    "# 3차원 배열 이상인 경우에는 swapaxes(0,2) 이런 2도 가능"
   ]
  },
  {
   "cell_type": "markdown",
   "metadata": {},
   "source": [
    "### 배열의 재구조화\n",
    "- reshape(): 배열의 형상을 변경\n",
    "- newaxis() : 새로운 축 추가. 한 차원 증가"
   ]
  },
  {
   "cell_type": "code",
   "execution_count": 44,
   "metadata": {},
   "outputs": [
    {
     "name": "stdout",
     "output_type": "stream",
     "text": [
      "[1 2 3 4 5 6 7 8 9]\n",
      "[[1 2 3]\n",
      " [4 5 6]\n",
      " [7 8 9]]\n"
     ]
    }
   ],
   "source": [
    "n1 = np.arange(1, 10) #1차원의 리스트를 1~10까지 만드는 것 \n",
    "print(n1)\n",
    "print(n1.reshape(3, 3)) #배열의 모양을 변경하는 것. 3행 3열짜리 2차원 배열로 모양을 바꾸어주는 것"
   ]
  },
  {
   "cell_type": "code",
   "execution_count": 45,
   "metadata": {},
   "outputs": [
    {
     "name": "stdout",
     "output_type": "stream",
     "text": [
      "[1 2 3 4 5 6 7 8 9]\n",
      "[[3 4 5]]\n",
      "[[3]\n",
      " [4]\n",
      " [5]]\n"
     ]
    }
   ],
   "source": [
    "print(n1) \n",
    "print(n1[np.newaxis, 2:5]) # 행을 추가하여 2차원 배열. 인덱스 2~(5-1)의 값으로\n",
    "print(n1[2:5, np.newaxis]) # 열을 추가하여 2차원 배열"
   ]
  },
  {
   "cell_type": "markdown",
   "metadata": {},
   "source": [
    "### 배열 크기 변경\n",
    "- resize() : 배열 크기 변경\n",
    "- element의 수가 같으면, 배열 모양만 변경\n",
    "- element의 sequence는 유지됨"
   ]
  },
  {
   "cell_type": "code",
   "execution_count": 46,
   "metadata": {},
   "outputs": [
    {
     "name": "stdout",
     "output_type": "stream",
     "text": [
      "[[0 0 5 3 8]\n",
      " [1 5 5 7 2]]\n",
      "[[0 0]\n",
      " [5 3]\n",
      " [8 1]\n",
      " [5 5]\n",
      " [7 2]]\n"
     ]
    }
   ],
   "source": [
    "n2=np.random.randint(0,10,(2,5)) #0부터 9까지의 수로 2행 5열짜리 배열을 만듦\n",
    "print(n2)\n",
    "n2.resize((5, 2)) #배열 크기 변경 #시퀀스는 그대로 유지하면서 5행 2열로 변경하는 것임. \n",
    "print(n2)"
   ]
  },
  {
   "cell_type": "markdown",
   "metadata": {},
   "source": [
    "- resize 크기가 원본 배열보다 크면, 남은 공간은 0으로 채워짐"
   ]
  },
  {
   "cell_type": "code",
   "execution_count": 47,
   "metadata": {
    "scrolled": false
   },
   "outputs": [
    {
     "name": "stdout",
     "output_type": "stream",
     "text": [
      "[[0 0 5 3 8]\n",
      " [1 5 5 7 2]\n",
      " [0 0 0 0 0]\n",
      " [0 0 0 0 0]\n",
      " [0 0 0 0 0]]\n"
     ]
    }
   ],
   "source": [
    "n2.resize((5, 5), refcheck=False) #reference check=false를 안 하면 오류발생! 사이즈가 서로 달라서 발생하는 오류.. \n",
    "print(n2)"
   ]
  },
  {
   "cell_type": "markdown",
   "metadata": {},
   "source": [
    "- resize 크기가 원본 배열보다 작으면, 기본 값은 삭제됨"
   ]
  },
  {
   "cell_type": "code",
   "execution_count": 48,
   "metadata": {},
   "outputs": [
    {
     "name": "stdout",
     "output_type": "stream",
     "text": [
      "[[0 0 5]\n",
      " [3 8 1]\n",
      " [5 5 7]]\n"
     ]
    }
   ],
   "source": [
    "n2.resize((3, 3), refcheck=False) #원래 10개 요소였는데 3by3이었으니까 남는 1개는 버리는 것임! \n",
    "print(n2)"
   ]
  },
  {
   "cell_type": "markdown",
   "metadata": {},
   "source": [
    "### 배열 추가\n",
    "- append(): 배열의 끝에 값 추가"
   ]
  },
  {
   "cell_type": "code",
   "execution_count": 49,
   "metadata": {},
   "outputs": [
    {
     "name": "stdout",
     "output_type": "stream",
     "text": [
      "[[1 2 3]\n",
      " [4 5 6]\n",
      " [7 8 9]]\n",
      "[[10 11 12]\n",
      " [13 14 15]\n",
      " [16 17 18]]\n"
     ]
    }
   ],
   "source": [
    "a2 = np.arange(1, 10).reshape(3, 3) \n",
    "print(a2)\n",
    "b2 = np.arange(10, 19).reshape(3, 3) #10부터 18까지의 수를 가지고 3행 3열짜리 쉐입 만들기 (생성과 동시에 쉐입 지정)\n",
    "print(b2)"
   ]
  },
  {
   "cell_type": "markdown",
   "metadata": {},
   "source": [
    "axis 지정이 없으면 1차원 배열 형태로 변형되어 결합"
   ]
  },
  {
   "cell_type": "code",
   "execution_count": 50,
   "metadata": {},
   "outputs": [
    {
     "name": "stdout",
     "output_type": "stream",
     "text": [
      "[ 1  2  3  4  5  6  7  8  9 10 11 12 13 14 15 16 17 18]\n"
     ]
    }
   ],
   "source": [
    "c2 = np.append(a2, b2)\n",
    "print(c2)"
   ]
  },
  {
   "cell_type": "markdown",
   "metadata": {},
   "source": [
    "axis를 0으로 지정 : 행 방향 결합"
   ]
  },
  {
   "cell_type": "code",
   "execution_count": 51,
   "metadata": {},
   "outputs": [
    {
     "name": "stdout",
     "output_type": "stream",
     "text": [
      "[[ 1  2  3]\n",
      " [ 4  5  6]\n",
      " [ 7  8  9]\n",
      " [10 11 12]\n",
      " [13 14 15]\n",
      " [16 17 18]]\n"
     ]
    }
   ],
   "source": [
    "c2 = np.append(a2, b2, axis=0)\n",
    "print(c2)"
   ]
  },
  {
   "cell_type": "markdown",
   "metadata": {},
   "source": [
    "axis를 1로 지정 : 열 방향 결합"
   ]
  },
  {
   "cell_type": "code",
   "execution_count": 52,
   "metadata": {},
   "outputs": [
    {
     "name": "stdout",
     "output_type": "stream",
     "text": [
      "[[ 1  2  3 10 11 12]\n",
      " [ 4  5  6 13 14 15]\n",
      " [ 7  8  9 16 17 18]]\n"
     ]
    }
   ],
   "source": [
    "c2 = np.append(a2, b2, axis=1)\n",
    "print(c2)"
   ]
  },
  {
   "cell_type": "markdown",
   "metadata": {},
   "source": [
    "### 배열 분할\n",
    "- split(): 배열 분할\n",
    "- vsplit(): 수직(y축) 분할, 행 분할\n",
    "- hsplit() : 수평(x축) 분할. 열 분할"
   ]
  },
  {
   "cell_type": "code",
   "execution_count": 53,
   "metadata": {},
   "outputs": [
    {
     "name": "stdout",
     "output_type": "stream",
     "text": [
      "[11 12 13 14 15 16 17 18 19 20]\n",
      "[11 12 13 14 15] [16 17 18 19 20]\n",
      "[11 12] [13 14] [15 16] [17 18] [19 20]\n"
     ]
    }
   ],
   "source": [
    "a1 = np.arange(11, 21) #11부터 20까지의 숫자로 만든 배열을\n",
    "print(a1)\n",
    "b1, c1 = np.split(a1, [5]) # index 5부터 새로운 배열로 split 시킴. 5번 인덱스부터는 찢어져서 새로운 배열이 되는 것임. \n",
    "print(b1, c1)\n",
    "b1, c1, d1, e1, f1 = np.split(a1, [2, 4, 6, 8]) #만약에 여러 기준점을 두어서 여러개의 배열을 만들고 싶다면 이렇게 ! \n",
    "print(b1, c1, d1, e1, f1)"
   ]
  },
  {
   "cell_type": "code",
   "execution_count": 54,
   "metadata": {},
   "outputs": [
    {
     "name": "stdout",
     "output_type": "stream",
     "text": [
      "[[1 2 3]\n",
      " [4 5 6]\n",
      " [7 8 9]]\n",
      "[[1 2 3]\n",
      " [4 5 6]]\n",
      "[[7 8 9]]\n"
     ]
    }
   ],
   "source": [
    "a2 = np.arange(1, 10).reshape(3, 3)\n",
    "print(a2)\n",
    "b2, c2 = np.vsplit(a2, [2])\n",
    "print(b2)\n",
    "print(c2)"
   ]
  },
  {
   "cell_type": "code",
   "execution_count": 55,
   "metadata": {},
   "outputs": [
    {
     "name": "stdout",
     "output_type": "stream",
     "text": [
      "[[1 2 3]\n",
      " [4 5 6]\n",
      " [7 8 9]]\n",
      "[[1 2]\n",
      " [4 5]\n",
      " [7 8]]\n",
      "[[3]\n",
      " [6]\n",
      " [9]]\n"
     ]
    }
   ],
   "source": [
    "a2 = np.arange(1, 10).reshape(3, 3)\n",
    "print(a2)\n",
    "b2, c2 = np.hsplit(a2, [2])\n",
    "print(b2)\n",
    "print(c2)"
   ]
  },
  {
   "cell_type": "markdown",
   "metadata": {},
   "source": [
    "### 배열 연산\n",
    "- NumPy의 배열 연산은 벡터화(vectorized) 연산을 사용\n",
    "- 일반적으로 NumPy의 범용 함수(universal functions)를 통해 구현\n",
    "- 배열 요소에 대한 반복적인 계산을 효율적으로 수행"
   ]
  },
  {
   "attachments": {
    "image.png": {
     "image/png": "[encoded data removed]"
    }
   },
   "cell_type": "markdown",
   "metadata": {},
   "source": [
    "### 브로드캐스팅\n",
    "![image.png](attachment:image.png)\n",
    "- 배열의 크기가 서로 다른 두개의 피연산자를 짧은쪽의 배열을 긴쪽의 배열의 기준에 맞춰서 !"
   ]
  },
  {
   "cell_type": "code",
   "execution_count": 56,
   "metadata": {},
   "outputs": [
    {
     "name": "stdout",
     "output_type": "stream",
     "text": [
      "[1 2 3]\n",
      "[6 7 8]\n",
      "-------------\n",
      "[[1 2 3]\n",
      " [4 5 6]\n",
      " [7 8 9]]\n",
      "[[ 2  4  6]\n",
      " [ 5  7  9]\n",
      " [ 8 10 12]]\n",
      "-------------\n",
      "[[1]\n",
      " [2]\n",
      " [3]]\n",
      "[[2 3 4]\n",
      " [3 4 5]\n",
      " [4 5 6]]\n"
     ]
    }
   ],
   "source": [
    "a1 = np.array([1, 2, 3])\n",
    "print(a1)\n",
    "print(a1 + 5)\n",
    "print('-------------')\n",
    "a2 = np.arange(1, 10).reshape(3, 3)\n",
    "print(a2)\n",
    "print(a1 + a2) #a1은 [1,2,3]임!\n",
    "print('-------------')\n",
    "b2 = np.array([1, 2, 3]).reshape(3, 1)\n",
    "print(b2)\n",
    "print(a1 + b2)"
   ]
  },
  {
   "attachments": {
    "image.png": {
     "image/png": "[encoded data removed]"
    }
   },
   "cell_type": "markdown",
   "metadata": {},
   "source": [
    "![image.png](attachment:image.png)"
   ]
  },
  {
   "cell_type": "code",
   "execution_count": 57,
   "metadata": {},
   "outputs": [
    {
     "name": "stdout",
     "output_type": "stream",
     "text": [
      "[1 2 3 4 5 6 7 8 9]\n",
      "[ 2  3  4  5  6  7  8  9 10]\n",
      "[11 12 13 14 15 16 17 18 19]\n",
      "[-1  0  1  2  3  4  5  6  7]\n",
      "[-9 -8 -7 -6 -5 -4 -3 -2 -1]\n",
      "[-1 -2 -3 -4 -5 -6 -7 -8 -9]\n",
      "[-1 -2 -3 -4 -5 -6 -7 -8 -9]\n",
      "[ 2  4  6  8 10 12 14 16 18]\n",
      "[ 2  4  6  8 10 12 14 16 18]\n",
      "[0.5 1.  1.5 2.  2.5 3.  3.5 4.  4.5]\n",
      "[0.5 1.  1.5 2.  2.5 3.  3.5 4.  4.5]\n",
      "[0 1 1 2 2 3 3 4 4]\n",
      "[0 1 1 2 2 3 3 4 4]\n",
      "[ 1  4  9 16 25 36 49 64 81]\n",
      "[ 1  4  9 16 25 36 49 64 81]\n",
      "[1 0 1 0 1 0 1 0 1]\n",
      "[1 0 1 0 1 0 1 0 1]\n"
     ]
    }
   ],
   "source": [
    "a1 = np.arange(1, 10)\n",
    "print(a1)\n",
    "print(a1 + 1)\n",
    "print(np.add(a1, 10))\n",
    "print(a1 - 2)\n",
    "print(np.subtract(a1, 10))\n",
    "print(-a1)\n",
    "print(np.negative(a1))\n",
    "print(a1 * 2)\n",
    "print(np.multiply(a1, 2))\n",
    "print(a1 / 2)\n",
    "print(np.divide(a1, 2))\n",
    "print(a1 // 2) # 정수만 취함\n",
    "print(np.floor_divide(a1, 2))\n",
    "print(a1 ** 2)\n",
    "print(np.power(a1, 2))\n",
    "print(a1 % 2)\n",
    "print(np.mod(a1, 2))"
   ]
  },
  {
   "cell_type": "code",
   "execution_count": 58,
   "metadata": {},
   "outputs": [
    {
     "name": "stdout",
     "output_type": "stream",
     "text": [
      "[1 2 3 4 5 6 7 8 9]\n"
     ]
    }
   ],
   "source": [
    "a1 = np.arange(1, 10)\n",
    "print(a1)\n",
    "b1 = np.random.randint(1, 10, size=9)"
   ]
  },
  {
   "cell_type": "code",
   "execution_count": 59,
   "metadata": {},
   "outputs": [
    {
     "name": "stdout",
     "output_type": "stream",
     "text": [
      "[5 3 7 3 2 5 4 5 4]\n",
      "[ 6  5 10  7  7 11 11 13 13]\n",
      "[-4 -1 -4  1  3  1  3  3  5]\n",
      "[ 5  6 21 12 10 30 28 40 36]\n",
      "[0.2        0.66666667 0.42857143 1.33333333 2.5        1.2\n",
      " 1.75       1.6        2.25      ]\n",
      "[0 0 0 1 2 1 1 1 2]\n",
      "[    1     8  2187    64    25  7776  2401 32768  6561]\n",
      "[1 2 3 1 1 1 3 3 1]\n"
     ]
    }
   ],
   "source": [
    "print(b1)\n",
    "print(a1 + b1)\n",
    "print(a1 - b1)\n",
    "print(a1 * b1)\n",
    "print(a1 / b1)\n",
    "print(a1 // b1)\n",
    "print(a1 ** b1)\n",
    "print(a1 % b1)"
   ]
  },
  {
   "cell_type": "code",
   "execution_count": 60,
   "metadata": {},
   "outputs": [
    {
     "name": "stdout",
     "output_type": "stream",
     "text": [
      "[[1 2 3]\n",
      " [4 5 6]\n",
      " [7 8 9]]\n",
      "[[4 1 8]\n",
      " [3 7 2]\n",
      " [1 7 9]]\n",
      "[[ 5  3 11]\n",
      " [ 7 12  8]\n",
      " [ 8 15 18]]\n",
      "[[-3  1 -5]\n",
      " [ 1 -2  4]\n",
      " [ 6  1  0]]\n",
      "[[ 4  2 24]\n",
      " [12 35 12]\n",
      " [ 7 56 81]]\n",
      "[[0.25       2.         0.375     ]\n",
      " [1.33333333 0.71428571 3.        ]\n",
      " [7.         1.14285714 1.        ]]\n",
      "[[0 2 0]\n",
      " [1 0 3]\n",
      " [7 1 1]]\n",
      "[[        1         2      6561]\n",
      " [       64     78125        36]\n",
      " [        7   2097152 387420489]]\n",
      "[[1 0 3]\n",
      " [1 5 0]\n",
      " [0 1 0]]\n"
     ]
    }
   ],
   "source": [
    "a2 = np.arange(1, 10).reshape(3, 3)\n",
    "print(a2)\n",
    "b2 = np.random.randint(1, 10, size=(3, 3))\n",
    "print(b2)\n",
    "print(a2 + b2)\n",
    "print(a2 - b2)\n",
    "print(a2 * b2)\n",
    "print(a2 / b2)\n",
    "print(a2 // b2)\n",
    "print(a2 ** b2)\n",
    "print(a2 % b2)"
   ]
  },
  {
   "cell_type": "markdown",
   "metadata": {},
   "source": [
    "### 절댓값 함수\n",
    "- absolute(), abs(): 내장된 절댓값 함수"
   ]
  },
  {
   "cell_type": "code",
   "execution_count": 61,
   "metadata": {
    "scrolled": true
   },
   "outputs": [
    {
     "name": "stdout",
     "output_type": "stream",
     "text": [
      "[ 0 -4 -6 -7  0]\n",
      "[0 4 6 7 0]\n",
      "[0 4 6 7 0]\n"
     ]
    }
   ],
   "source": [
    "a1 = np.random.randint(-10, 10, size=5)\n",
    "print(a1)\n",
    "print(np.absolute(a1))\n",
    "print(np.abs(a1))"
   ]
  },
  {
   "cell_type": "markdown",
   "metadata": {},
   "source": [
    "### 제곱/제곱근 함수\n",
    "- square , sqrt : 제곱, 제곱근 함수"
   ]
  },
  {
   "cell_type": "code",
   "execution_count": 62,
   "metadata": {},
   "outputs": [
    {
     "name": "stdout",
     "output_type": "stream",
     "text": [
      "[ 0 -4 -6 -7  0]\n",
      "[ 0 16 36 49  0]\n",
      "[ 0. nan nan nan  0.]\n"
     ]
    },
    {
     "name": "stderr",
     "output_type": "stream",
     "text": [
      "<ipython-input-62-4df4a40a694d>:3: RuntimeWarning: invalid value encountered in sqrt\n",
      "  print(np.sqrt(a1)) # 음수가 있으면 RuntimeWarning 발생시키고, 결과는 nan\n"
     ]
    }
   ],
   "source": [
    "print(a1)\n",
    "print(np.square(a1))\n",
    "print(np.sqrt(a1)) # 음수가 있으면 RuntimeWarning 발생시키고, 결과는 nan"
   ]
  },
  {
   "cell_type": "markdown",
   "metadata": {},
   "source": [
    "### 지수와 로그 함수"
   ]
  },
  {
   "cell_type": "code",
   "execution_count": 63,
   "metadata": {},
   "outputs": [
    {
     "name": "stdout",
     "output_type": "stream",
     "text": [
      "[3 2 2 7 8]\n",
      "[  20.08553692    7.3890561     7.3890561  1096.63315843 2980.95798704]\n",
      "[  8.   4.   4. 128. 256.]\n",
      "[ 27   8   8 343 512]\n"
     ]
    }
   ],
   "source": [
    "a1 = np.random.randint(1, 10, size=5)\n",
    "print(a1)\n",
    "print(np.exp(a1)) # e^n (e=2.718....)\n",
    "print(np.exp2(a1)) # 2^n\n",
    "print(np.power(a1, 3)) # n*n"
   ]
  },
  {
   "cell_type": "code",
   "execution_count": 64,
   "metadata": {},
   "outputs": [
    {
     "name": "stdout",
     "output_type": "stream",
     "text": [
      "[3 2 2 7 8]\n",
      "[1.09861229 0.69314718 0.69314718 1.94591015 2.07944154]\n",
      "[1.5849625  1.         1.         2.80735492 3.        ]\n",
      "[0.47712125 0.30103    0.30103    0.84509804 0.90308999]\n"
     ]
    }
   ],
   "source": [
    "print(a1)\n",
    "print(np.log(a1))\n",
    "print(np.log2(a1))\n",
    "print(np.log10(a1))"
   ]
  },
  {
   "attachments": {
    "image.png": {
     "image/png": "[encoded data removed]"
    }
   },
   "cell_type": "markdown",
   "metadata": {},
   "source": [
    "### 집계 함수\n",
    "![image.png](attachment:image.png)\n",
    "- 데이터셋에 적용하는 함수"
   ]
  },
  {
   "cell_type": "code",
   "execution_count": 65,
   "metadata": {},
   "outputs": [
    {
     "name": "stdout",
     "output_type": "stream",
     "text": [
      "[[4 7 2]\n",
      " [7 4 9]\n",
      " [7 5 4]]\n",
      "49 49\n",
      "[18 16 15] [18 16 15]\n",
      "[13 20 16] [13 20 16]\n"
     ]
    }
   ],
   "source": [
    "#sum(): 합 계산\n",
    "a2 = np.random.randint(1, 10, size=(3, 3)) #2차원 배열, 함수 적용하는 방향이 중요함!! \n",
    "print(a2)\n",
    "print(a2.sum(), np.sum(a2))\n",
    "print(a2.sum(axis=0), np.sum(a2, axis=0)) # 열 방향 합 (결과값의 방향이 행)\n",
    "print(a2.sum(axis=1), np.sum(a2, axis=1)) # 행 방향 합 (결과값의 방향이 열)"
   ]
  },
  {
   "cell_type": "code",
   "execution_count": 66,
   "metadata": {},
   "outputs": [
    {
     "name": "stdout",
     "output_type": "stream",
     "text": [
      "[[4 7 2]\n",
      " [7 4 9]\n",
      " [7 5 4]]\n",
      "[ 4 11 13 20 24 33 40 45 49]\n",
      "[[ 4  7  2]\n",
      " [11 11 11]\n",
      " [18 16 15]]\n",
      "[[ 4 11 13]\n",
      " [ 7 11 20]\n",
      " [ 7 12 16]]\n"
     ]
    }
   ],
   "source": [
    "#cumsum(): 누적 합 계산\n",
    "print(a2)\n",
    "print(np.cumsum(a2))\n",
    "print(np.cumsum(a2, axis=0))\n",
    "print(np.cumsum(a2, axis=1))"
   ]
  },
  {
   "cell_type": "code",
   "execution_count": 67,
   "metadata": {},
   "outputs": [
    {
     "name": "stdout",
     "output_type": "stream",
     "text": [
      "[[4 7 2]\n",
      " [7 4 9]\n",
      " [7 5 4]]\n",
      "1975680\n",
      "[196 140  72]\n",
      "[ 56 252 140]\n"
     ]
    }
   ],
   "source": [
    "# prod(): 곱 계산\n",
    "print(a2)\n",
    "print(np.prod(a2))\n",
    "print(np.prod(a2, axis=0))\n",
    "print(np.prod(a2, axis=1))"
   ]
  },
  {
   "cell_type": "code",
   "execution_count": 68,
   "metadata": {},
   "outputs": [
    {
     "name": "stdout",
     "output_type": "stream",
     "text": [
      "[[4 7 2]\n",
      " [7 4 9]\n",
      " [7 5 4]]\n",
      "[      4      28      56     392    1568   14112   98784  493920 1975680]\n",
      "[[  4   7   2]\n",
      " [ 28  28  18]\n",
      " [196 140  72]]\n",
      "[[  4  28  56]\n",
      " [  7  28 252]\n",
      " [  7  35 140]]\n"
     ]
    }
   ],
   "source": [
    "# cumprod(): 누적곱 계산\n",
    "print(a2)\n",
    "print(np.cumprod(a2))\n",
    "print(np.cumprod(a2, axis=0))\n",
    "print(np.cumprod(a2, axis=1))"
   ]
  },
  {
   "cell_type": "code",
   "execution_count": 69,
   "metadata": {},
   "outputs": [
    {
     "name": "stdout",
     "output_type": "stream",
     "text": [
      "[[4 7 2]\n",
      " [7 4 9]\n",
      " [7 5 4]]\n",
      "[[1 1 1]\n",
      " [1 1 1]\n",
      " [1 1 1]]\n",
      "[[13 13 13]\n",
      " [20 20 20]\n",
      " [16 16 16]]\n",
      "[[13 13 13]\n",
      " [20 20 20]\n",
      " [16 16 16]]\n"
     ]
    }
   ],
   "source": [
    "# dot()/matmul(): 점곱/행렬곱 계산\n",
    "print(a2)\n",
    "b2 = np.ones_like(a2)\n",
    "print(b2)\n",
    "print(np.dot(a2, b2))\n",
    "print(np.matmul(a2, b2))"
   ]
  },
  {
   "cell_type": "code",
   "execution_count": 70,
   "metadata": {},
   "outputs": [
    {
     "name": "stdout",
     "output_type": "stream",
     "text": [
      "[[4 7 2]\n",
      " [7 4 9]\n",
      " [7 5 4]]\n",
      "5.444444444444445\n",
      "[6.         5.33333333 5.        ]\n",
      "[4.33333333 6.66666667 5.33333333]\n"
     ]
    }
   ],
   "source": [
    "# mean(): 평균 계산\n",
    "print(a2)\n",
    "print(np.mean(a2))\n",
    "print(np.mean(a2, axis=0)) # 결과 행\n",
    "print(np.mean(a2, axis=1)) # 결과 열"
   ]
  },
  {
   "cell_type": "code",
   "execution_count": 71,
   "metadata": {},
   "outputs": [
    {
     "name": "stdout",
     "output_type": "stream",
     "text": [
      "[[4 7 2]\n",
      " [7 4 9]\n",
      " [7 5 4]]\n",
      "2.0608041101101566\n",
      "[1.41421356 1.24721913 2.94392029]\n",
      "[2.05480467 2.05480467 1.24721913]\n"
     ]
    }
   ],
   "source": [
    "# std(): 표준 편차 계산\n",
    "print(a2)\n",
    "print(np.std(a2))\n",
    "print(np.std(a2, axis=0))\n",
    "print(np.std(a2, axis=1))\n"
   ]
  },
  {
   "cell_type": "code",
   "execution_count": 72,
   "metadata": {},
   "outputs": [
    {
     "name": "stdout",
     "output_type": "stream",
     "text": [
      "[[4 7 2]\n",
      " [7 4 9]\n",
      " [7 5 4]]\n",
      "4.246913580246914\n",
      "[2.         1.55555556 8.66666667]\n",
      "[4.22222222 4.22222222 1.55555556]\n"
     ]
    }
   ],
   "source": [
    "# var(): 분산 계산\n",
    "print(a2)\n",
    "print(np.var(a2))\n",
    "print(np.var(a2, axis=0))\n",
    "print(np.var(a2, axis=1))\n"
   ]
  },
  {
   "cell_type": "code",
   "execution_count": 73,
   "metadata": {},
   "outputs": [
    {
     "name": "stdout",
     "output_type": "stream",
     "text": [
      "[[4 7 2]\n",
      " [7 4 9]\n",
      " [7 5 4]]\n",
      "2\n",
      "[4 4 2]\n",
      "[2 4 4]\n"
     ]
    }
   ],
   "source": [
    "# min(): 최솟값\n",
    "print(a2)\n",
    "print(np.min(a2))\n",
    "print(np.min(a2, axis=0))\n",
    "print(np.min(a2, axis=1))"
   ]
  },
  {
   "cell_type": "code",
   "execution_count": 74,
   "metadata": {},
   "outputs": [
    {
     "name": "stdout",
     "output_type": "stream",
     "text": [
      "[[4 7 2]\n",
      " [7 4 9]\n",
      " [7 5 4]]\n",
      "9\n",
      "[7 7 9]\n",
      "[7 9 7]\n"
     ]
    }
   ],
   "source": [
    "# max(): 최대값\n",
    "print(a2)\n",
    "print(np.max(a2))\n",
    "print(np.max(a2, axis=0))\n",
    "print(np.max(a2, axis=1))"
   ]
  },
  {
   "cell_type": "code",
   "execution_count": 75,
   "metadata": {},
   "outputs": [
    {
     "name": "stdout",
     "output_type": "stream",
     "text": [
      "[[4 7 2]\n",
      " [7 4 9]\n",
      " [7 5 4]]\n",
      "2\n",
      "[0 1 0]\n",
      "[2 1 2]\n"
     ]
    }
   ],
   "source": [
    "# argmin(): 최솟값 인덱스\n",
    "print(a2)\n",
    "print(np.argmin(a2))\n",
    "print(np.argmin(a2, axis=0))\n",
    "print(np.argmin(a2, axis=1))"
   ]
  },
  {
   "cell_type": "code",
   "execution_count": 76,
   "metadata": {},
   "outputs": [
    {
     "name": "stdout",
     "output_type": "stream",
     "text": [
      "[[4 7 2]\n",
      " [7 4 9]\n",
      " [7 5 4]]\n",
      "5\n",
      "[1 0 1]\n",
      "[1 2 0]\n"
     ]
    }
   ],
   "source": [
    "# argmax(): 최대값 인덱스\n",
    "print(a2)\n",
    "print(np.argmax(a2))\n",
    "print(np.argmax(a2, axis=0))\n",
    "print(np.argmax(a2, axis=1))"
   ]
  },
  {
   "cell_type": "code",
   "execution_count": 77,
   "metadata": {},
   "outputs": [
    {
     "name": "stdout",
     "output_type": "stream",
     "text": [
      "[[4 7 2]\n",
      " [7 4 9]\n",
      " [7 5 4]]\n",
      "5.0\n",
      "[7. 5. 4.]\n",
      "[4. 7. 5.]\n"
     ]
    }
   ],
   "source": [
    "# median(): 중앙값\n",
    "print(a2)\n",
    "print(np.median(a2))\n",
    "print(np.median(a2, axis=0))\n",
    "print(np.median(a2, axis=1))"
   ]
  },
  {
   "attachments": {
    "image.png": {
     "image/png": "[encoded data removed]"
    }
   },
   "cell_type": "markdown",
   "metadata": {},
   "source": [
    "### percentile(): 백분위 수\n",
    "![image.png](attachment:image.png)"
   ]
  },
  {
   "cell_type": "code",
   "execution_count": 99,
   "metadata": {},
   "outputs": [
    {
     "name": "stdout",
     "output_type": "stream",
     "text": [
      "[ 1  2  3  4  5  6  7  8  9 10]\n",
      "[3.7 5.5 8.2]\n",
      "[3 5 8]\n",
      "[4 6 9]\n",
      "[4 5 8]\n",
      "[3.5 5.5 8.5]\n"
     ]
    }
   ],
   "source": [
    "a1 = np.arange(1, 11)\n",
    "print(a1)\n",
    "print(np.percentile(a1, [30, 50, 80], interpolation='linear')) #30퍼센트에 해당하는 값, ~, ~ 을 찾고 싶을 때 percentile 함수 사용. linear은 계산된 값 찾아줌. \n",
    "print(np.percentile(a1, [30, 50, 80], interpolation='lower')) #정확하게 딱떨어지는 값이 없으면 interpolation 인자 설정해서 값 반환 lower은 작은값\n",
    "print(np.percentile(a1, [30, 50, 80], interpolation='higher')) \n",
    "print(np.percentile(a1, [30, 50, 80], interpolation='nearest')) #가장 가까이 있는 값 반환 \n",
    "print(np.percentile(a1, [30, 50, 80], interpolation='midpoint')) #midpoint는 중간값 반환 "
   ]
  },
  {
   "cell_type": "code",
   "execution_count": 100,
   "metadata": {},
   "outputs": [
    {
     "name": "stdout",
     "output_type": "stream",
     "text": [
      "[[10  7  5]\n",
      " [ 3  2  1]]\n"
     ]
    }
   ],
   "source": [
    "a2 = np.array([[10, 7, 5], [3, 2, 1]])\n",
    "print(a2)"
   ]
  },
  {
   "cell_type": "code",
   "execution_count": 80,
   "metadata": {},
   "outputs": [
    {
     "name": "stdout",
     "output_type": "stream",
     "text": [
      "4.0\n",
      "[6.5 4.5 3. ]\n",
      "[7. 2.]\n"
     ]
    }
   ],
   "source": [
    "print(np.percentile(a2, 50))\n",
    "print(np.percentile(a2, 50, axis=0))\n",
    "print(np.percentile(a2, 50, axis=1))\n"
   ]
  },
  {
   "cell_type": "code",
   "execution_count": 81,
   "metadata": {},
   "outputs": [
    {
     "name": "stdout",
     "output_type": "stream",
     "text": [
      "[[False False False]\n",
      " [ True  True  True]\n",
      " [False  True  True]]\n",
      "True\n",
      "[ True  True  True]\n",
      "[False  True  True]\n"
     ]
    }
   ],
   "source": [
    "# any(): 데이터 범위 안에서 참값이 존재하는지 여부를 판단하는 것. 데이터 중 하나라도 참값일 경우에는 True, 모두 false면 false 반환 \n",
    "a2 = np.array([[False, False, False],\n",
    "[True, True, True],\n",
    "[False, True, True]])\n",
    "print(a2)\n",
    "print(np.any(a2))\n",
    "print(np.any(a2, axis=0)) #a2에서 행방향으로 확인했을 때 True 가 하나라도 존재하는지? \n",
    "print(np.any(a2, axis=1)) #a2를 열방향으로 확인했을 때 True가 하나라도 존재하는지?"
   ]
  },
  {
   "cell_type": "code",
   "execution_count": 82,
   "metadata": {},
   "outputs": [
    {
     "name": "stdout",
     "output_type": "stream",
     "text": [
      "[[False False False]\n",
      " [ True  True  True]\n",
      " [False  True  True]]\n",
      "False\n",
      "[False False False]\n",
      "[False  True False]\n"
     ]
    }
   ],
   "source": [
    "#all(): 모든 값이 True여야 True 반환하는 함수 \n",
    "a2 = np.array([[False, False, False],\n",
    "[True, True, True],\n",
    "[False, True, True]])\n",
    "print(a2)\n",
    "print(np.all(a2))\n",
    "print(np.all(a2, axis=0))\n",
    "print(np.all(a2, axis=1)) #열방향으로 확인했을 때! "
   ]
  },
  {
   "attachments": {
    "image.png": {
     "image/png": "[encoded data removed]"
    }
   },
   "cell_type": "markdown",
   "metadata": {},
   "source": [
    "### 비교 연산\n",
    "![image.png](attachment:image.png)"
   ]
  },
  {
   "cell_type": "code",
   "execution_count": 83,
   "metadata": {},
   "outputs": [
    {
     "name": "stdout",
     "output_type": "stream",
     "text": [
      "[1 2 3 4 5 6 7 8 9]\n",
      "[False False False False  True False False False False]\n",
      "[ True  True  True  True False  True  True  True  True]\n",
      "[ True  True  True  True False False False False False]\n",
      "[ True  True  True  True  True False False False False]\n",
      "[False False False False False  True  True  True  True]\n",
      "[False False False False  True  True  True  True  True]\n"
     ]
    }
   ],
   "source": [
    "a1 = np.arange(1, 10)\n",
    "print(a1)\n",
    "print(a1 == 5)\n",
    "print(a1 != 5)\n",
    "print(a1 < 5)\n",
    "print(a1 <= 5)\n",
    "print(a1 > 5)\n",
    "print(a1 >= 5)"
   ]
  },
  {
   "cell_type": "code",
   "execution_count": 101,
   "metadata": {},
   "outputs": [
    {
     "name": "stdout",
     "output_type": "stream",
     "text": [
      "[[1 2 3]\n",
      " [4 5 6]\n",
      " [7 8 9]]\n",
      "45\n",
      "4\n",
      "[1 1 2]\n",
      "[0 1 3]\n",
      "True\n",
      "[ True  True  True]\n",
      "[False  True  True]\n",
      "False\n",
      "[False False False]\n",
      "[False False  True]\n"
     ]
    }
   ],
   "source": [
    "a2 = np.arange(1, 10).reshape(3, 3)\n",
    "print(a2)\n",
    "print(np.sum(a2)) #1~9까지의 합 \n",
    "print(np.sum(a2 > 5)) #sum 안에다가 인자로 비교연산식을 넣으면 거기에 해당하는 값만 연산함. True는 1, False는 0으로 해서 1의 합 4개!\n",
    "print(np.sum(a2 > 5, axis=0)) #axis를 지정해서 1,4,7 확인해서 5보다 큰 거 하나 있으니까 1 / 2,5,8중에도 1개있으니까 1.. 이런식으로! \n",
    "print(np.sum(a2 > 5, axis=1)) #1,2,3에는 0, 4,5,6에는 1, 7,8,9에는 3\n",
    "print(np.any(a2 > 5))\n",
    "print(np.any(a2 > 5, axis=0))\n",
    "print(np.any(a2 > 5, axis=1))\n",
    "print(np.all(a2 > 5))\n",
    "print(np.all(a2 > 5, axis=0))\n",
    "print(np.all(a2 > 5, axis=1))"
   ]
  },
  {
   "cell_type": "markdown",
   "metadata": {},
   "source": [
    "### 배열 정렬\n",
    "- np.sort(array) : 정렬된 배열의 복사본 생성. 원본 배열의 변경 없음\n",
    "- array.sort() : 원본 배열의 값이 변경됨"
   ]
  },
  {
   "cell_type": "code",
   "execution_count": 85,
   "metadata": {},
   "outputs": [
    {
     "name": "stdout",
     "output_type": "stream",
     "text": [
      "[4 8 3 3 3 2 1 1 7 2]\n",
      "[1 1 2 2 3 3 3 4 7 8]\n",
      "[4 8 3 3 3 2 1 1 7 2]\n",
      "None\n",
      "[1 1 2 2 3 3 3 4 7 8]\n"
     ]
    }
   ],
   "source": [
    "a1 = np.random.randint(1, 10, size=10) #1~9까지 10개난수 생성 \n",
    "print(a1) \n",
    "print(np.sort(a1)) #정렬\n",
    "print(a1) #not 정렬 \n",
    "print(a1.sort()) #print하면 none이 나온다는 이야기는, 그 함수에는 반환타입이 존재하지 않는다는 뜻\n",
    "print(a1)"
   ]
  },
  {
   "cell_type": "code",
   "execution_count": 86,
   "metadata": {},
   "outputs": [
    {
     "name": "stdout",
     "output_type": "stream",
     "text": [
      "[[1 9 4]\n",
      " [2 5 2]\n",
      " [7 3 7]]\n",
      "[[1 3 2]\n",
      " [2 5 4]\n",
      " [7 9 7]]\n",
      "[[1 4 9]\n",
      " [2 2 5]\n",
      " [3 7 7]]\n"
     ]
    }
   ],
   "source": [
    "a2 = np.random.randint(1, 10, size=(3, 3))\n",
    "print(a2)\n",
    "print(np.sort(a2, axis=0)) # 행 방향으로 각 열을 정렬\n",
    "print(np.sort(a2, axis=1)) # 열 방향으로 각 행을 정렬"
   ]
  },
  {
   "cell_type": "markdown",
   "metadata": {},
   "source": [
    "### 부분 정렬\n",
    "- partition(array, k) : 배열에서 k개의 작은 값을 선택하여 왼쪽에 배치 \n",
    "- -k : k개의 큰 값을 오른쪽에 배치: 큰값을 찾으려면 -k"
   ]
  },
  {
   "cell_type": "code",
   "execution_count": 87,
   "metadata": {},
   "outputs": [
    {
     "name": "stdout",
     "output_type": "stream",
     "text": [
      "[7 3 1 8 1 1 6 3 5 8]\n",
      "[1 1 1 3 3 5 6 7 8 8]\n",
      "[3 1 1 5 3 1 6 7 8 8]\n"
     ]
    }
   ],
   "source": [
    "a1 = np.random.randint(1, 10, size=10)\n",
    "print(a1)\n",
    "print(np.partition(a1, 3))\n",
    "print(np.partition(a1, -3))"
   ]
  },
  {
   "attachments": {
    "image.png": {
     "image/png": "[encoded data removed]"
    }
   },
   "cell_type": "markdown",
   "metadata": {},
   "source": [
    "### 배열 입출력\n",
    "![image.png](attachment:image.png)"
   ]
  },
  {
   "cell_type": "code",
   "execution_count": 102,
   "metadata": {},
   "outputs": [
    {
     "name": "stdout",
     "output_type": "stream",
     "text": [
      "[[6 5 5 2 7]\n",
      " [4 8 3 6 3]\n",
      " [6 5 1 4 6]\n",
      " [9 4 5 6 2]\n",
      " [1 2 9 8 2]]\n"
     ]
    }
   ],
   "source": [
    "a2 = np.random.randint(1, 10, size=(5, 5))\n",
    "print(a2)\n",
    "np.save(\"a\", a2)"
   ]
  },
  {
   "cell_type": "code",
   "execution_count": 89,
   "metadata": {},
   "outputs": [
    {
     "name": "stdout",
     "output_type": "stream",
     "text": [
      " C 드라이브의 볼륨에는 이름이 없습니다.\n",
      " 볼륨 일련 번호: 6E44-A804\n",
      "\n",
      " C:\\Users\\uni06\\DataMining 디렉터리\n",
      "\n",
      "2023-03-13  오후 03:08    <DIR>          .\n",
      "2023-03-07  오전 11:22    <DIR>          ..\n",
      "2023-03-09  오후 03:50    <DIR>          .ipynb_checkpoints\n",
      "2023-03-13  오후 03:08           448,504 01.Numpy_0306~.ipynb\n",
      "2023-03-09  오후 03:49               630 a.csv\n",
      "2023-03-13  오후 03:09               228 a.npy\n",
      "2023-03-09  오후 03:44               706 ab.npz\n",
      "2023-03-09  오후 03:50               252 b.csv\n",
      "               5개 파일             450,320 바이트\n",
      "               3개 디렉터리  241,352,876,032 바이트 남음\n"
     ]
    }
   ],
   "source": [
    "ls"
   ]
  },
  {
   "cell_type": "code",
   "execution_count": 90,
   "metadata": {},
   "outputs": [
    {
     "name": "stdout",
     "output_type": "stream",
     "text": [
      "[[7 8 8 3 9]\n",
      " [2 1 6 9 1]\n",
      " [8 3 5 6 4]\n",
      " [9 8 1 7 9]\n",
      " [1 5 3 4 2]]\n"
     ]
    }
   ],
   "source": [
    "b2 = np.random.randint(1, 10, size=(5, 5))\n",
    "print(b2)\n",
    "np.savez(\"ab\", a2, b2) #zip으로 저장. "
   ]
  },
  {
   "cell_type": "code",
   "execution_count": 91,
   "metadata": {},
   "outputs": [
    {
     "name": "stdout",
     "output_type": "stream",
     "text": [
      " C 드라이브의 볼륨에는 이름이 없습니다.\n",
      " 볼륨 일련 번호: 6E44-A804\n",
      "\n",
      " C:\\Users\\uni06\\DataMining 디렉터리\n",
      "\n",
      "2023-03-13  오후 03:08    <DIR>          .\n",
      "2023-03-07  오전 11:22    <DIR>          ..\n",
      "2023-03-09  오후 03:50    <DIR>          .ipynb_checkpoints\n",
      "2023-03-13  오후 03:08           448,504 01.Numpy_0306~.ipynb\n",
      "2023-03-09  오후 03:49               630 a.csv\n",
      "2023-03-13  오후 03:09               228 a.npy\n",
      "2023-03-13  오후 03:09               706 ab.npz\n",
      "2023-03-09  오후 03:50               252 b.csv\n",
      "               5개 파일             450,320 바이트\n",
      "               3개 디렉터리  241,352,876,032 바이트 남음\n"
     ]
    }
   ],
   "source": [
    "ls"
   ]
  },
  {
   "cell_type": "code",
   "execution_count": 92,
   "metadata": {},
   "outputs": [
    {
     "name": "stdout",
     "output_type": "stream",
     "text": [
      "[[5 4 7 1 7]\n",
      " [7 1 6 9 9]\n",
      " [8 9 2 8 6]\n",
      " [5 4 9 1 2]\n",
      " [9 9 7 7 7]]\n"
     ]
    }
   ],
   "source": [
    "npy = np.load(\"a.npy\")\n",
    "print(npy)"
   ]
  },
  {
   "cell_type": "code",
   "execution_count": 93,
   "metadata": {},
   "outputs": [
    {
     "name": "stdout",
     "output_type": "stream",
     "text": [
      "['arr_0', 'arr_1']\n",
      "[[5 4 7 1 7]\n",
      " [7 1 6 9 9]\n",
      " [8 9 2 8 6]\n",
      " [5 4 9 1 2]\n",
      " [9 9 7 7 7]]\n",
      "[[7 8 8 3 9]\n",
      " [2 1 6 9 1]\n",
      " [8 3 5 6 4]\n",
      " [9 8 1 7 9]\n",
      " [1 5 3 4 2]]\n"
     ]
    }
   ],
   "source": [
    "npz = np.load(\"ab.npz\")\n",
    "print(npz.files)\n",
    "print(npz['arr_0'])\n",
    "print(npz['arr_1'])"
   ]
  },
  {
   "cell_type": "code",
   "execution_count": 94,
   "metadata": {},
   "outputs": [
    {
     "name": "stdout",
     "output_type": "stream",
     "text": [
      "[[5 4 7 1 7]\n",
      " [7 1 6 9 9]\n",
      " [8 9 2 8 6]\n",
      " [5 4 9 1 2]\n",
      " [9 9 7 7 7]]\n"
     ]
    }
   ],
   "source": [
    "print(a2)\n",
    "np.savetxt(\"a.csv\", a2, delimiter=',')"
   ]
  },
  {
   "cell_type": "code",
   "execution_count": 95,
   "metadata": {},
   "outputs": [
    {
     "name": "stdout",
     "output_type": "stream",
     "text": [
      " C 드라이브의 볼륨에는 이름이 없습니다.\n",
      " 볼륨 일련 번호: 6E44-A804\n",
      "\n",
      " C:\\Users\\uni06\\DataMining 디렉터리\n",
      "\n",
      "2023-03-13  오후 03:08    <DIR>          .\n",
      "2023-03-07  오전 11:22    <DIR>          ..\n",
      "2023-03-09  오후 03:50    <DIR>          .ipynb_checkpoints\n",
      "2023-03-13  오후 03:08           448,504 01.Numpy_0306~.ipynb\n",
      "2023-03-13  오후 03:09               630 a.csv\n",
      "2023-03-13  오후 03:09               228 a.npy\n",
      "2023-03-13  오후 03:09               706 ab.npz\n",
      "2023-03-09  오후 03:50               252 b.csv\n",
      "               5개 파일             450,320 바이트\n",
      "               3개 디렉터리  241,352,876,032 바이트 남음\n"
     ]
    }
   ],
   "source": [
    "ls"
   ]
  },
  {
   "cell_type": "code",
   "execution_count": 96,
   "metadata": {},
   "outputs": [
    {
     "name": "stdout",
     "output_type": "stream",
     "text": [
      "[[5. 4. 7. 1. 7.]\n",
      " [7. 1. 6. 9. 9.]\n",
      " [8. 9. 2. 8. 6.]\n",
      " [5. 4. 9. 1. 2.]\n",
      " [9. 9. 7. 7. 7.]]\n"
     ]
    }
   ],
   "source": [
    "csv = np.loadtxt(\"a.csv\", delimiter=',') #a2를 a.csv에 저장 \n",
    "print(csv)"
   ]
  },
  {
   "cell_type": "code",
   "execution_count": 97,
   "metadata": {},
   "outputs": [
    {
     "name": "stdout",
     "output_type": "stream",
     "text": [
      "[[7 8 8 3 9]\n",
      " [2 1 6 9 1]\n",
      " [8 3 5 6 4]\n",
      " [9 8 1 7 9]\n",
      " [1 5 3 4 2]]\n"
     ]
    }
   ],
   "source": [
    "print(b2)\n",
    "np.savetxt(\"b.csv\", b2, delimiter=',', fmt='%.2e', header='c1, c2, c3, c4, c5')"
   ]
  },
  {
   "cell_type": "code",
   "execution_count": 98,
   "metadata": {},
   "outputs": [
    {
     "name": "stdout",
     "output_type": "stream",
     "text": [
      "[[7. 8. 8. 3. 9.]\n",
      " [2. 1. 6. 9. 1.]\n",
      " [8. 3. 5. 6. 4.]\n",
      " [9. 8. 1. 7. 9.]\n",
      " [1. 5. 3. 4. 2.]]\n"
     ]
    }
   ],
   "source": [
    "csv = np.loadtxt(\"b.csv\", delimiter=',')\n",
    "print(csv)"
   ]
  }
 ],
 "metadata": {
  "kernelspec": {
   "display_name": "Python 3",
   "language": "python",
   "name": "python3"
  },
  "language_info": {
   "codemirror_mode": {
    "name": "ipython",
    "version": 3
   },
   "file_extension": ".py",
   "mimetype": "text/x-python",
   "name": "python",
   "nbconvert_exporter": "python",
   "pygments_lexer": "ipython3",
   "version": "3.8.5"
  }
 },
 "nbformat": 4,
 "nbformat_minor": 4
}
